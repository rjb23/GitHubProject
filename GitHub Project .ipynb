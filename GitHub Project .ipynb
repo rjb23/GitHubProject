{
 "cells": [
  {
   "cell_type": "code",
   "execution_count": 1,
   "id": "2ea16271",
   "metadata": {},
   "outputs": [
    {
     "name": "stdout",
     "output_type": "stream",
     "text": [
      "Welcome to the Experiment Summary Tool!\n",
      "Please answer the following questions about your experiment:\n",
      "\n",
      "What was the objective of your experiment? to record from two parts of the brain\n",
      "What methodology did you use in your experiment? hyperdrive microfabrication. Neurotechnologist research\n",
      "What were the key findings of your experiment? neuroanatomy, cellular correlations among grid and spatial patterns \n",
      "What were the limitations of your experiment? space and time in the brain, due to the sensitivity of the location where we must record from is very hard to reach through surgery. \n",
      "What are the implications of your experiment? seeking to understand the most septal area of the hippocampus along the medial entorhinal cortex\n",
      "\n",
      "Here is a summary of your experiment:\n",
      "\n",
      "The objective of your experiment was to to record from two parts of the brain.\n",
      "You used hyperdrive microfabrication. Neurotechnologist research methodology in your experiment.\n",
      "The key findings of your experiment were neuroanatomy, cellular correlations among grid and spatial patterns .\n",
      "The limitations of your experiment were space and time in the brain, due to the sensitivity of the location where we must record from is very hard to reach through surgery. .\n",
      "The implications of your experiment are seeking to understand the most septal area of the hippocampus along the medial entorhinal cortex.\n"
     ]
    }
   ],
   "source": [
    "import sys\n",
    "import time\n",
    "\n",
    "def print_slow(str):\n",
    "    # function to print text slowly, for dramatic effect\n",
    "    for letter in str:\n",
    "        sys.stdout.write(letter)\n",
    "        sys.stdout.flush()\n",
    "        time.sleep(0.05)\n",
    "\n",
    "print_slow(\"Welcome to the Experiment Summary Tool!\\n\")\n",
    "print_slow(\"Please answer the following questions about your experiment:\\n\\n\")\n",
    "\n",
    "# Question 1\n",
    "question_1 = input(\"What was the objective of your experiment? \")\n",
    "\n",
    "# Question 2\n",
    "question_2 = input(\"What methodology did you use in your experiment? \")\n",
    "\n",
    "# Question 3\n",
    "question_3 = input(\"What were the key findings of your experiment? \")\n",
    "\n",
    "# Question 4\n",
    "question_4 = input(\"What were the limitations of your experiment? \")\n",
    "\n",
    "# Question 5\n",
    "question_5 = input(\"What are the implications of your experiment? \")\n",
    "\n",
    "# Generate the summary\n",
    "print(\"\\nHere is a summary of your experiment:\\n\")\n",
    "print(f\"The objective of your experiment was to {question_1}.\")\n",
    "print(f\"You used {question_2} methodology in your experiment.\")\n",
    "print(f\"The key findings of your experiment were {question_3}.\")\n",
    "print(f\"The limitations of your experiment were {question_4}.\")\n",
    "print(f\"The implications of your experiment are {question_5}.\")\n"
   ]
  },
  {
   "cell_type": "code",
   "execution_count": null,
   "id": "cb5fd8b4",
   "metadata": {},
   "outputs": [],
   "source": []
  }
 ],
 "metadata": {
  "kernelspec": {
   "display_name": "Python 3 (ipykernel)",
   "language": "python",
   "name": "python3"
  },
  "language_info": {
   "codemirror_mode": {
    "name": "ipython",
    "version": 3
   },
   "file_extension": ".py",
   "mimetype": "text/x-python",
   "name": "python",
   "nbconvert_exporter": "python",
   "pygments_lexer": "ipython3",
   "version": "3.9.12"
  }
 },
 "nbformat": 4,
 "nbformat_minor": 5
}
