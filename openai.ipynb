{
 "cells": [
  {
   "cell_type": "code",
   "execution_count": 1,
   "id": "93705489",
   "metadata": {},
   "outputs": [
    {
     "name": "stdout",
     "output_type": "stream",
     "text": [
      " Is it a mammal, a fish, or something else?\n",
      "\n",
      "This new animal is a mammal. It lives in the deep sea, where there is no sunlight, and no photosynthesis. It is a sulfide-oxidizing whale. It eats sulfide, and then uses the energy from that to make food. The sulfide is toxic for most animals, but this whale has an adapted stomach. In addition to this, it can eat many different things. It eats a lot of\n"
     ]
    }
   ],
   "source": [
    "import openai\n",
    "import os\n",
    "\n",
    "# Set up the OpenAI API key\n",
    "openai.api_key = \"YOUR_API_KEY\"\n",
    "\n",
    "# Generate text using GPT-3\n",
    "prompt = \"In a shocking turn of events, scientists have discovered a new species of animal living in the deep sea. Describe this new animal.\"\n",
    "\n",
    "response = openai.Completion.create(\n",
    "    engine=\"davinci\",\n",
    "    prompt=prompt,\n",
    "    temperature=0.7,\n",
    "    max_tokens=100,\n",
    "    n=1,\n",
    "    stop=None,\n",
    ")\n",
    "\n",
    "print(response.choices[0].text)\n"
   ]
  },
  {
   "cell_type": "code",
   "execution_count": null,
   "id": "c4801db2",
   "metadata": {},
   "outputs": [],
   "source": []
  }
 ],
 "metadata": {
  "kernelspec": {
   "display_name": "Python 3 (ipykernel)",
   "language": "python",
   "name": "python3"
  },
  "language_info": {
   "codemirror_mode": {
    "name": "ipython",
    "version": 3
   },
   "file_extension": ".py",
   "mimetype": "text/x-python",
   "name": "python",
   "nbconvert_exporter": "python",
   "pygments_lexer": "ipython3",
   "version": "3.9.12"
  }
 },
 "nbformat": 4,
 "nbformat_minor": 5
}
